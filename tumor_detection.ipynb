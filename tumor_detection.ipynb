{
  "metadata": {
    "kernelspec": {
      "language": "python",
      "display_name": "Python 3",
      "name": "python3"
    },
    "language_info": {
      "name": "python",
      "version": "3.7.10",
      "mimetype": "text/x-python",
      "codemirror_mode": {
        "name": "ipython",
        "version": 3
      },
      "pygments_lexer": "ipython3",
      "nbconvert_exporter": "python",
      "file_extension": ".py"
    },
    "colab": {
      "name": "tumor-detection.ipynb",
      "provenance": [],
      "collapsed_sections": []
    }
  },
  "nbformat_minor": 0,
  "nbformat": 4,
  "cells": [
    {
      "cell_type": "code",
      "source": [
        "import cv2\n",
        "import glob\n",
        "import numpy as np\n",
        "from tensorflow import one_hot\n",
        "from tensorflow.keras import models, layers\n",
        "from sklearn.preprocessing import LabelEncoder"
      ],
      "metadata": {
        "_uuid": "8f2839f25d086af736a60e9eeb907d3b93b6e0e5",
        "_cell_guid": "b1076dfc-b9ad-4769-8c92-a6c4dae69d19",
        "execution": {
          "iopub.status.busy": "2021-11-28T18:18:32.261347Z",
          "iopub.execute_input": "2021-11-28T18:18:32.261998Z",
          "iopub.status.idle": "2021-11-28T18:18:37.677896Z",
          "shell.execute_reply.started": "2021-11-28T18:18:32.261896Z",
          "shell.execute_reply": "2021-11-28T18:18:37.677002Z"
        },
        "trusted": true,
        "id": "slSamrWHKDSl"
      },
      "execution_count": null,
      "outputs": []
    },
    {
      "cell_type": "code",
      "source": [
        "images = []\n",
        "labels = []"
      ],
      "metadata": {
        "execution": {
          "iopub.status.busy": "2021-11-28T18:18:37.682545Z",
          "iopub.execute_input": "2021-11-28T18:18:37.682767Z",
          "iopub.status.idle": "2021-11-28T18:18:37.688830Z",
          "shell.execute_reply.started": "2021-11-28T18:18:37.682739Z",
          "shell.execute_reply": "2021-11-28T18:18:37.688064Z"
        },
        "trusted": true,
        "id": "cav2DHnZKDSt"
      },
      "execution_count": null,
      "outputs": []
    },
    {
      "cell_type": "code",
      "source": [
        "for i in glob.glob('../input/brain-tumor-classification-mri/Training/*/*'):\n",
        "    img = cv2.imread(i)\n",
        "    re_img = cv2.resize(img, (128, 128))\n",
        "    gray_image = cv2.cvtColor(re_img, cv2.COLOR_BGR2GRAY)\n",
        "\n",
        "    label = i.split('/')[-2]\n",
        "    images.append(gray_image)\n",
        "    labels.append(label)"
      ],
      "metadata": {
        "execution": {
          "iopub.status.busy": "2021-11-28T18:18:37.690195Z",
          "iopub.execute_input": "2021-11-28T18:18:37.690534Z",
          "iopub.status.idle": "2021-11-28T18:19:01.938959Z",
          "shell.execute_reply.started": "2021-11-28T18:18:37.690496Z",
          "shell.execute_reply": "2021-11-28T18:19:01.938188Z"
        },
        "trusted": true,
        "id": "aw6hTaE5KDSu"
      },
      "execution_count": null,
      "outputs": []
    },
    {
      "cell_type": "code",
      "source": [
        "images = np.array(images)/255\n",
        "print(images.shape)"
      ],
      "metadata": {
        "execution": {
          "iopub.status.busy": "2021-11-28T18:19:01.940994Z",
          "iopub.execute_input": "2021-11-28T18:19:01.941307Z",
          "iopub.status.idle": "2021-11-28T18:19:02.084735Z",
          "shell.execute_reply.started": "2021-11-28T18:19:01.941269Z",
          "shell.execute_reply": "2021-11-28T18:19:02.083829Z"
        },
        "trusted": true,
        "id": "QdyZsWDrKDSw"
      },
      "execution_count": null,
      "outputs": []
    },
    {
      "cell_type": "markdown",
      "source": [
        "RGB vs Gray\n",
        "* RGB have 3 channels\n",
        "* RGB complaxity\n",
        "\n",
        "gray: an image with one channel\n",
        "\n",
        "\n",
        "\n",
        "rgb: (255, 255, 255) = gray: 255"
      ],
      "metadata": {
        "id": "08BHmlRPKDSw"
      }
    },
    {
      "cell_type": "code",
      "source": [
        "labels = np.array(labels)\n",
        "le = LabelEncoder()\n",
        "labels = le.fit_transform(labels)\n",
        "labels = one_hot(labels, 4)"
      ],
      "metadata": {
        "execution": {
          "iopub.status.busy": "2021-11-28T18:19:02.086218Z",
          "iopub.execute_input": "2021-11-28T18:19:02.086517Z",
          "iopub.status.idle": "2021-11-28T18:19:04.284862Z",
          "shell.execute_reply.started": "2021-11-28T18:19:02.086470Z",
          "shell.execute_reply": "2021-11-28T18:19:04.284172Z"
        },
        "trusted": true,
        "id": "iNW_vRfhKDS0"
      },
      "execution_count": null,
      "outputs": []
    },
    {
      "cell_type": "code",
      "source": [
        "TumorDetection = models.Sequential([\n",
        "                                    layers.Conv2D(32, 3, activation='relu', input_shape=(128, 128, 1)),\n",
        "                                    layers.Conv2D(64, 3, activation='relu'),\n",
        "                                    layers.Conv2D(128, 3, activation='relu'),\n",
        "                                    layers.Conv2D(256, 3, activation='relu'),\n",
        "                                    layers.Conv2D(512, 3, activation='relu'),\n",
        "                                    layers.Flatten(),\n",
        "                                    layers.Dense(4, activation='softmax')\n",
        "])"
      ],
      "metadata": {
        "execution": {
          "iopub.status.busy": "2021-11-28T18:22:21.966156Z",
          "iopub.execute_input": "2021-11-28T18:22:21.966802Z",
          "iopub.status.idle": "2021-11-28T18:22:22.026025Z",
          "shell.execute_reply.started": "2021-11-28T18:22:21.966758Z",
          "shell.execute_reply": "2021-11-28T18:22:22.025265Z"
        },
        "trusted": true,
        "id": "U4xALY40KDS1"
      },
      "execution_count": null,
      "outputs": []
    },
    {
      "cell_type": "code",
      "source": [
        "images.shape"
      ],
      "metadata": {
        "execution": {
          "iopub.status.busy": "2021-11-28T18:22:22.590497Z",
          "iopub.execute_input": "2021-11-28T18:22:22.591161Z",
          "iopub.status.idle": "2021-11-28T18:22:22.598089Z",
          "shell.execute_reply.started": "2021-11-28T18:22:22.591100Z",
          "shell.execute_reply": "2021-11-28T18:22:22.597299Z"
        },
        "trusted": true,
        "id": "rE0xu1B0KDS3"
      },
      "execution_count": null,
      "outputs": []
    },
    {
      "cell_type": "code",
      "source": [
        "images = images.reshape((2870, 128, 128, 1))"
      ],
      "metadata": {
        "execution": {
          "iopub.status.busy": "2021-11-28T18:22:22.735844Z",
          "iopub.execute_input": "2021-11-28T18:22:22.736389Z",
          "iopub.status.idle": "2021-11-28T18:22:22.740060Z",
          "shell.execute_reply.started": "2021-11-28T18:22:22.736350Z",
          "shell.execute_reply": "2021-11-28T18:22:22.739192Z"
        },
        "trusted": true,
        "id": "TpXZjj8tKDS5"
      },
      "execution_count": null,
      "outputs": []
    },
    {
      "cell_type": "code",
      "source": [
        "images.shape"
      ],
      "metadata": {
        "execution": {
          "iopub.status.busy": "2021-11-28T18:22:23.065472Z",
          "iopub.execute_input": "2021-11-28T18:22:23.065992Z",
          "iopub.status.idle": "2021-11-28T18:22:23.070906Z",
          "shell.execute_reply.started": "2021-11-28T18:22:23.065954Z",
          "shell.execute_reply": "2021-11-28T18:22:23.070252Z"
        },
        "trusted": true,
        "id": "qLjPb7h-KDS6"
      },
      "execution_count": null,
      "outputs": []
    },
    {
      "cell_type": "code",
      "source": [
        "TumorDetection.compile(loss='categorical_crossentropy',\n",
        "                      optimizer='adam',\n",
        "                      metrics=['accuracy'])"
      ],
      "metadata": {
        "execution": {
          "iopub.status.busy": "2021-11-28T18:22:23.245503Z",
          "iopub.execute_input": "2021-11-28T18:22:23.246027Z",
          "iopub.status.idle": "2021-11-28T18:22:23.255743Z",
          "shell.execute_reply.started": "2021-11-28T18:22:23.245988Z",
          "shell.execute_reply": "2021-11-28T18:22:23.255044Z"
        },
        "trusted": true,
        "id": "5vWNbbbmKDS7"
      },
      "execution_count": null,
      "outputs": []
    },
    {
      "cell_type": "code",
      "source": [
        "TumorDetection.fit(images, labels, batch_size=32, epochs=10)"
      ],
      "metadata": {
        "execution": {
          "iopub.status.busy": "2021-11-28T18:22:23.496955Z",
          "iopub.execute_input": "2021-11-28T18:22:23.497231Z",
          "iopub.status.idle": "2021-11-28T18:26:46.269763Z",
          "shell.execute_reply.started": "2021-11-28T18:22:23.497201Z",
          "shell.execute_reply": "2021-11-28T18:26:46.269006Z"
        },
        "trusted": true,
        "id": "DG7BUyCIKDS8"
      },
      "execution_count": null,
      "outputs": []
    },
    {
      "cell_type": "code",
      "source": [
        "for i in glob.glob('../input/brain-tumor-classification-mri/Testing/*/*'):\n",
        "    img = cv2.imread(i)\n",
        "    re_img = cv2.resize(img, (128, 128))\n",
        "    gray_image = cv2.cvtColor(re_img, cv2.COLOR_BGR2GRAY)\n",
        "\n",
        "    label = i.split('/')[-2]\n",
        "    images.append(gray_image)\n",
        "    labels.append(label)"
      ],
      "metadata": {
        "id": "8gLj68WlKDS9"
      },
      "execution_count": null,
      "outputs": []
    },
    {
      "cell_type": "code",
      "source": [
        ""
      ],
      "metadata": {
        "id": "3AoeLtWrKDS-"
      },
      "execution_count": null,
      "outputs": []
    }
  ]
}